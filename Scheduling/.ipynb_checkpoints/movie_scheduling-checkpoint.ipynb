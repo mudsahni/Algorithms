{
 "cells": [
  {
   "cell_type": "markdown",
   "metadata": {},
   "source": [
    "### Problem Statement\n",
    "Imagine you are a highly-indemand actor, who has been presented with offers to star in n different movie projects under development. Each offer comes specified with the first and last  day of filming. To take the job, you must commit to being available throughout  this entire period. Thus you cannot simultaneously accept two jobs whose  intervals overlap.\n",
    "\n",
    "### Criteria\n",
    "You want to make as much money as possible. Because each of these  films pays the same fee per film, this implies you seek the largest possible  set of jobs (intervals) such that no two of them conflict with each other."
   ]
  },
  {
   "cell_type": "code",
   "execution_count": 1,
   "metadata": {},
   "outputs": [],
   "source": [
    "import numpy as np\n",
    "import random\n",
    "import datetime\n",
    "from collections import namedtuple\n",
    "import calendar\n",
    "\n",
    "np.random.seed(314)\n",
    "Range = namedtuple(\"Range\", [\"start\", \"end\"])\n"
   ]
  },
  {
   "cell_type": "markdown",
   "metadata": {},
   "source": [
    "### Creating a DateRange Class"
   ]
  },
  {
   "cell_type": "code",
   "execution_count": 20,
   "metadata": {},
   "outputs": [],
   "source": [
    "class DateRange(object):\n",
    "    def __init__(self, date_range):\n",
    "        self.range = date_range\n",
    "        self.difference = self.range.end-self.range.start\n",
    "        \n",
    "    def get_start_date(self):\n",
    "        return self.range.start\n",
    "    \n",
    "    def get_end_date(self):\n",
    "        return self.range.end\n",
    "    \n",
    "    def get_start_string(self):\n",
    "        return self.range.start.strftime(\"%Y-%m-%d\")\n",
    "    \n",
    "    def get_end_string(self):\n",
    "        return self.range.end.strftime(\"%Y-%m-%d\")\n",
    "    \n",
    "    def __str__(self):\n",
    "        return f\"{self.get_start_string()} ====> {self.get_end_string()}\"\n",
    "        \n",
    "    def __lt__(self, r2):\n",
    "        return self.range < r2\n",
    "    \n",
    "    def __le__(self, r2):\n",
    "        return self.range <= r2\n",
    "    \n",
    "    def __eq__(self, r2):\n",
    "        return self.range == r2\n",
    "    \n",
    "    def __gt__(self, r2):\n",
    "        return self.range > r2\n",
    "    \n",
    "    def __ge__(self, r2):\n",
    "        return self.range >= r2\n",
    "    \n",
    "    def get_overlap(self, r2):\n",
    "        latest_start = max(self.range.start, r2.range.start)\n",
    "        earliest_end = min(self.range.end, r2.range.end)\n",
    "        delta = (earliest_end - latest_start).days + 1\n",
    "        return max(0, delta)\n",
    "    \n",
    "    def is_overlap(self, r2):\n",
    "        return self.get_overlap(r2) != 0\n"
   ]
  },
  {
   "cell_type": "markdown",
   "metadata": {},
   "source": [
    "### Creating a Test Set"
   ]
  },
  {
   "cell_type": "code",
   "execution_count": 38,
   "metadata": {},
   "outputs": [],
   "source": [
    "def make_datetime_object(day,month,year):\n",
    "    return datetime.datetime.strptime(f\"{year}-{month}-{day}\", \"%Y-%m-%d\")\n",
    "    \n",
    "def get_random_date(start):\n",
    "    \"\"\"\n",
    "    Generates a random datetime object between two other datetime objects.\n",
    "    \"\"\"\n",
    "    MAX_DAYS = 30\n",
    "    MIN_DAYS = 3\n",
    "    number_of_days = np.random.randint(MIN_DAYS, MAX_DAYS)\n",
    "    return start + datetime.timedelta(days=number_of_days)\n",
    "    \n",
    "def get_date(spread, year):\n",
    "    month = np.random.randint(1,spread)\n",
    "    day = np.random.randint(1,calendar.monthrange(year,month)[1])\n",
    "\n",
    "    return make_datetime_object(day,month,year)\n",
    "\n",
    "def generate_jobs(n,MAX_DAYS,MIN_DAYS,spread,year):\n",
    "    date_ranges=[]\n",
    "    for i in range(n):\n",
    "        start = get_date(spread, year)\n",
    "        end = get_random_date(start)\n",
    "        date_range = DateRange(Range(start=start, end=end))\n",
    "        date_ranges.append(date_range)\n",
    "    return date_ranges\n",
    "\n",
    "def check_overlap(date, date_ranges):\n",
    "    _temp = []\n",
    "    for d in date_ranges:\n",
    "        print(f\"Checking overlap with previous date: {d}\")\n",
    "        _temp.append(date.is_overlap(d))\n",
    "    if not any(_temp):\n",
    "        print(\"No overlap with any previous date.\")\n",
    "        return True\n",
    "    return False"
   ]
  },
  {
   "cell_type": "markdown",
   "metadata": {},
   "source": [
    "### Generate a sample test set"
   ]
  },
  {
   "cell_type": "code",
   "execution_count": 39,
   "metadata": {},
   "outputs": [],
   "source": [
    "date_ranges = generate_jobs(10,3,30,3,2019)"
   ]
  },
  {
   "cell_type": "markdown",
   "metadata": {},
   "source": [
    "### Earliest Job First Methodology\n",
    "The simplest idea to solve this scheduling problem is to accept the work which starts the earliest and then go down the list of jobs and take the work which is next to start and doesnt overlap with any previously taken assignments."
   ]
  },
  {
   "cell_type": "code",
   "execution_count": 40,
   "metadata": {},
   "outputs": [
    {
     "name": "stdout",
     "output_type": "stream",
     "text": [
      "Job which starts the first: 2019-01-06 ====> 2019-01-16\n",
      "Next earliest starting job: 2019-01-17 ====> 2019-01-21\n",
      "Checking overlap with previous date: 2019-01-06 ====> 2019-01-16\n",
      "No overlap with any previous date.\n",
      "Appending to taken jobs list: 2019-01-17 ====> 2019-01-21\n",
      "===================================================\n",
      "Next earliest starting job: 2019-01-17 ====> 2019-02-03\n",
      "Checking overlap with previous date: 2019-01-06 ====> 2019-01-16\n",
      "Checking overlap with previous date: 2019-01-17 ====> 2019-01-21\n",
      "===================================================\n",
      "Next earliest starting job: 2019-02-07 ====> 2019-03-03\n",
      "Checking overlap with previous date: 2019-01-06 ====> 2019-01-16\n",
      "Checking overlap with previous date: 2019-01-17 ====> 2019-01-21\n",
      "No overlap with any previous date.\n",
      "Appending to taken jobs list: 2019-02-07 ====> 2019-03-03\n",
      "===================================================\n",
      "Next earliest starting job: 2019-02-12 ====> 2019-02-23\n",
      "Checking overlap with previous date: 2019-01-06 ====> 2019-01-16\n",
      "Checking overlap with previous date: 2019-01-17 ====> 2019-01-21\n",
      "Checking overlap with previous date: 2019-02-07 ====> 2019-03-03\n",
      "===================================================\n",
      "Next earliest starting job: 2019-02-16 ====> 2019-03-01\n",
      "Checking overlap with previous date: 2019-01-06 ====> 2019-01-16\n",
      "Checking overlap with previous date: 2019-01-17 ====> 2019-01-21\n",
      "Checking overlap with previous date: 2019-02-07 ====> 2019-03-03\n",
      "===================================================\n",
      "Next earliest starting job: 2019-02-17 ====> 2019-02-23\n",
      "Checking overlap with previous date: 2019-01-06 ====> 2019-01-16\n",
      "Checking overlap with previous date: 2019-01-17 ====> 2019-01-21\n",
      "Checking overlap with previous date: 2019-02-07 ====> 2019-03-03\n",
      "===================================================\n",
      "Next earliest starting job: 2019-02-20 ====> 2019-02-24\n",
      "Checking overlap with previous date: 2019-01-06 ====> 2019-01-16\n",
      "Checking overlap with previous date: 2019-01-17 ====> 2019-01-21\n",
      "Checking overlap with previous date: 2019-02-07 ====> 2019-03-03\n",
      "===================================================\n",
      "Next earliest starting job: 2019-02-21 ====> 2019-03-16\n",
      "Checking overlap with previous date: 2019-01-06 ====> 2019-01-16\n",
      "Checking overlap with previous date: 2019-01-17 ====> 2019-01-21\n",
      "Checking overlap with previous date: 2019-02-07 ====> 2019-03-03\n",
      "===================================================\n",
      "Next earliest starting job: 2019-02-22 ====> 2019-03-06\n",
      "Checking overlap with previous date: 2019-01-06 ====> 2019-01-16\n",
      "Checking overlap with previous date: 2019-01-17 ====> 2019-01-21\n",
      "Checking overlap with previous date: 2019-02-07 ====> 2019-03-03\n",
      "===================================================\n"
     ]
    }
   ],
   "source": [
    "def earliest_job_first(date_ranges):\n",
    "    dates_to_take = []\n",
    "    sorted_date_ranges = np.argsort(date_ranges)\n",
    "    dates_to_take.append(date_ranges[sorted_date_ranges[0]])\n",
    "    print(f\"Job which starts the first: {date_ranges[sorted_date_ranges[0]]}\")\n",
    "    start = 0\n",
    "    for other_date in sorted_date_ranges[1:]:\n",
    "        print(f\"Next earliest starting job: {date_ranges[other_date]}\")\n",
    "        take_date = check_overlap(date_ranges[other_date], dates_to_take)\n",
    "        if take_date:\n",
    "            dates_to_take.append(date_ranges[other_date])\n",
    "            print(f\"Appending to taken jobs list: {date_ranges[other_date]}\")\n",
    "\n",
    "        print(\"===================================================\")\n",
    "    return dates_to_take\n",
    "            \n",
    "jobs_to_take = earliest_job_first(date_ranges)"
   ]
  },
  {
   "cell_type": "code",
   "execution_count": 41,
   "metadata": {},
   "outputs": [
    {
     "name": "stdout",
     "output_type": "stream",
     "text": [
      "Checking jobs and pay:\n",
      "2019-01-06 ====> 2019-01-16\n",
      "Pay: $X\n",
      "2019-01-17 ====> 2019-01-21\n",
      "Pay: $X\n",
      "2019-02-07 ====> 2019-03-03\n",
      "Pay: $X\n",
      "=============================================\n",
      "Total Pay: $3X\n",
      "Total Jobs Taken: 3\n",
      "Total Percent of Jobs Taken: 30.0%\n"
     ]
    }
   ],
   "source": [
    "print(\"Checking jobs and pay:\")\n",
    "for job in jobs_to_take:\n",
    "    print(job)\n",
    "    print(\"Pay: $X\")\n",
    "print(f\"=============================================\")\n",
    "\n",
    "print(f\"Total Pay: ${len(jobs_to_take)}X\")\n",
    "print(f\"Total Jobs Taken: {len(jobs_to_take)}\")\n",
    "print(f\"Total Percent of Jobs Taken: {(len(jobs_to_take)/len(date_ranges))*100}%\")"
   ]
  },
  {
   "cell_type": "markdown",
   "metadata": {},
   "source": [
    "This idea makes sense until we realize that accepting the earliest job might block us from taking many other jobs if that first job is quite long. For example if the first movie you accept takes 30 days to film and there are 3 overlapping movie which only take 10 days each to film, then you are accepting 1 movie at the cost of 3.\n",
    "\n",
    "This brings us to another approach:"
   ]
  },
  {
   "cell_type": "markdown",
   "metadata": {},
   "source": [
    "### Shortest Job First Methodology\n",
    "The idea here is that we accept the movie which finishes in the shortest time and then go down the list accepting the movies which take the next shortest time and dont clash with previously accepted movies."
   ]
  },
  {
   "cell_type": "code",
   "execution_count": 42,
   "metadata": {},
   "outputs": [
    {
     "name": "stdout",
     "output_type": "stream",
     "text": [
      "Movie with shortest duration: 2019-02-20 ====> 2019-02-24\n",
      "Next earliest starting job: 2019-01-17 ====> 2019-01-21\n",
      "Checking overlap with previous date: 2019-02-20 ====> 2019-02-24\n",
      "No overlap with any previous date.\n",
      "Appending to taken jobs list: 2019-01-17 ====> 2019-01-21\n",
      "===================================================\n",
      "Next earliest starting job: 2019-02-17 ====> 2019-02-23\n",
      "Checking overlap with previous date: 2019-02-20 ====> 2019-02-24\n",
      "Checking overlap with previous date: 2019-01-17 ====> 2019-01-21\n",
      "===================================================\n",
      "Next earliest starting job: 2019-01-06 ====> 2019-01-16\n",
      "Checking overlap with previous date: 2019-02-20 ====> 2019-02-24\n",
      "Checking overlap with previous date: 2019-01-17 ====> 2019-01-21\n",
      "No overlap with any previous date.\n",
      "Appending to taken jobs list: 2019-01-06 ====> 2019-01-16\n",
      "===================================================\n",
      "Next earliest starting job: 2019-02-12 ====> 2019-02-23\n",
      "Checking overlap with previous date: 2019-02-20 ====> 2019-02-24\n",
      "Checking overlap with previous date: 2019-01-17 ====> 2019-01-21\n",
      "Checking overlap with previous date: 2019-01-06 ====> 2019-01-16\n",
      "===================================================\n",
      "Next earliest starting job: 2019-02-22 ====> 2019-03-06\n",
      "Checking overlap with previous date: 2019-02-20 ====> 2019-02-24\n",
      "Checking overlap with previous date: 2019-01-17 ====> 2019-01-21\n",
      "Checking overlap with previous date: 2019-01-06 ====> 2019-01-16\n",
      "===================================================\n",
      "Next earliest starting job: 2019-02-16 ====> 2019-03-01\n",
      "Checking overlap with previous date: 2019-02-20 ====> 2019-02-24\n",
      "Checking overlap with previous date: 2019-01-17 ====> 2019-01-21\n",
      "Checking overlap with previous date: 2019-01-06 ====> 2019-01-16\n",
      "===================================================\n",
      "Next earliest starting job: 2019-01-17 ====> 2019-02-03\n",
      "Checking overlap with previous date: 2019-02-20 ====> 2019-02-24\n",
      "Checking overlap with previous date: 2019-01-17 ====> 2019-01-21\n",
      "Checking overlap with previous date: 2019-01-06 ====> 2019-01-16\n",
      "===================================================\n",
      "Next earliest starting job: 2019-02-21 ====> 2019-03-16\n",
      "Checking overlap with previous date: 2019-02-20 ====> 2019-02-24\n",
      "Checking overlap with previous date: 2019-01-17 ====> 2019-01-21\n",
      "Checking overlap with previous date: 2019-01-06 ====> 2019-01-16\n",
      "===================================================\n",
      "Next earliest starting job: 2019-02-07 ====> 2019-03-03\n",
      "Checking overlap with previous date: 2019-02-20 ====> 2019-02-24\n",
      "Checking overlap with previous date: 2019-01-17 ====> 2019-01-21\n",
      "Checking overlap with previous date: 2019-01-06 ====> 2019-01-16\n",
      "===================================================\n"
     ]
    }
   ],
   "source": [
    "def shortest_movie_first(date_ranges):\n",
    "    differences = np.argsort([i.difference.days for i in date_ranges])\n",
    "    print(f\"Movie with shortest duration: {date_ranges[differences[0]]}\")\n",
    "    dates_to_take = [date_ranges[differences[0]]]\n",
    "    for other_date in differences[1:]:\n",
    "        print(f\"Next earliest starting job: {date_ranges[other_date]}\")\n",
    "        take_date = check_overlap(date_ranges[other_date], dates_to_take)\n",
    "        \n",
    "        if take_date:\n",
    "            dates_to_take.append(date_ranges[other_date])\n",
    "            print(f\"Appending to taken jobs list: {date_ranges[other_date]}\")\n",
    "\n",
    "        print(\"===================================================\")\n",
    "    return dates_to_take\n",
    "\n",
    "jobs_to_take = shortest_movie_first(date_ranges)"
   ]
  },
  {
   "cell_type": "code",
   "execution_count": 43,
   "metadata": {},
   "outputs": [
    {
     "name": "stdout",
     "output_type": "stream",
     "text": [
      "Checking jobs and pay:\n",
      "2019-02-20 ====> 2019-02-24\n",
      "Pay: $X\n",
      "2019-01-17 ====> 2019-01-21\n",
      "Pay: $X\n",
      "2019-01-06 ====> 2019-01-16\n",
      "Pay: $X\n",
      "=============================================\n",
      "Total Pay: $3X\n",
      "Total Jobs Taken: 3\n",
      "Total Percent of Jobs Taken: 30.0%\n"
     ]
    }
   ],
   "source": [
    "print(\"Checking jobs and pay:\")\n",
    "for job in jobs_to_take:\n",
    "    print(job)\n",
    "    print(\"Pay: $X\")\n",
    "print(f\"=============================================\")\n",
    "\n",
    "print(f\"Total Pay: ${len(jobs_to_take)}X\")\n",
    "print(f\"Total Jobs Taken: {len(jobs_to_take)}\")\n",
    "print(f\"Total Percent of Jobs Taken: {(len(jobs_to_take)/len(date_ranges))*100}%\")\n"
   ]
  },
  {
   "cell_type": "markdown",
   "metadata": {},
   "source": [
    "This is a better heuristic than the previous one, but there might be cases where accepting the shortest job might block us from accepting two other jobs. The potential loss is less than the previous idea but it can readily limit us to half the optimal payoff.\n"
   ]
  },
  {
   "cell_type": "code",
   "execution_count": null,
   "metadata": {},
   "outputs": [],
   "source": []
  }
 ],
 "metadata": {
  "kernelspec": {
   "display_name": "Python 3",
   "language": "python",
   "name": "python3"
  },
  "language_info": {
   "codemirror_mode": {
    "name": "ipython",
    "version": 3
   },
   "file_extension": ".py",
   "mimetype": "text/x-python",
   "name": "python",
   "nbconvert_exporter": "python",
   "pygments_lexer": "ipython3",
   "version": "3.6.7"
  }
 },
 "nbformat": 4,
 "nbformat_minor": 2
}
